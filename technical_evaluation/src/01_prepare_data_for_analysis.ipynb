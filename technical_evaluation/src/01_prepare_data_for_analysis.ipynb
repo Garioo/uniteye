{
 "cells": [
  {
   "cell_type": "code",
   "execution_count": 210,
   "metadata": {},
   "outputs": [],
   "source": [
    "import pandas as pd\n",
    "import numpy as np"
   ]
  },
  {
   "cell_type": "code",
   "execution_count": 212,
   "metadata": {},
   "outputs": [],
   "source": [
    "TARGETS = {\n",
    "    1:[960-850, 540-450],\n",
    "    2:[960, 540-400],\n",
    "    3:[960+850, 540-450],\n",
    "    4:[960-450, 540-200],\n",
    "    5:[960+450, 540-200],\n",
    "    6:[960, 540],\n",
    "    7:[960-450, 540+200],\n",
    "    8:[960+450, 540+200],\n",
    "    9:[960-850, 540+450],\n",
    "    10:[960, 540+400],\n",
    "    11:[960+850, 540+450]\n",
    "}"
   ]
  },
  {
   "cell_type": "code",
   "execution_count": 213,
   "metadata": {},
   "outputs": [],
   "source": [
    "def rmss2s(x, y):\n",
    "    result = []\n",
    "    for i in range(len(x) - 1):\n",
    "        result.append(np.sqrt(1/(len(x) - 1) * ((x[i] - x[i + 1]) ** 2 + (y[i] - y[i + 1]) ** 2)))\n",
    "    return np.sum(result)"
   ]
  },
  {
   "cell_type": "markdown",
   "metadata": {},
   "source": [
    "## UnitEye & UnitEye Smoothed"
   ]
  },
  {
   "cell_type": "code",
   "execution_count": null,
   "metadata": {},
   "outputs": [],
   "source": [
    "dfs_uniteye, dfs_uniteye_f = [], []\n",
    "for p in range(1, 13):\n",
    "    for o in range(0, 2):\n",
    "        uniteye = f'data/p{p}/{p}_uniteye_{o}.csv'\n",
    "\n",
    "        target_xs, target_ys = [], []\n",
    "        mean_xs, mean_ys, f_mean_xs, f_mean_ys = [], [], [], []\n",
    "        dist_xs, dist_ys, f_dist_xs, f_dist_ys, euclideans, f_euclideans = [], [], [], [], [], []\n",
    "        sd_xs, sd_ys, f_sd_xs, f_sd_ys, rmss2ss, f_rmss2ss = [], [], [], [], [], []\n",
    "\n",
    "        df = pd.read_csv(uniteye, sep=';', decimal='.')\n",
    "        for key, value in TARGETS.items():\n",
    "            filtered = df[df['event'] == key].copy()\n",
    "            filtered['x_raw_norm'] = filtered['x_raw_norm'].apply(lambda x: x * 1920)\n",
    "            filtered['y_raw_norm'] = filtered['y_raw_norm'].apply(lambda y: y * 1080)\n",
    "            x = filtered['x_raw_norm'].tolist()\n",
    "            y = filtered['y_raw_norm'].tolist()\n",
    "            filtered_x = filtered['x_filtered_norm'].apply(lambda x: x * 1920).tolist()\n",
    "            filtered_y = filtered['y_filtered_norm'].apply(lambda y: y * 1080).tolist()\n",
    "\n",
    "            mean_x = np.mean(x)\n",
    "            mean_y = np.mean(y)\n",
    "            f_mean_x = np.mean(filtered_x)\n",
    "            f_mean_y = np.mean(filtered_y)\n",
    "\n",
    "            sd_x = np.std(x)\n",
    "            sd_y = np.std(y)\n",
    "            f_sd_x = np.std(filtered_x)\n",
    "            f_sd_y = np.std(filtered_y)\n",
    "\n",
    "            dist_x = np.mean(filtered['x_raw_distance'].tolist())\n",
    "            dist_y = np.mean(filtered['y_raw_distance'].tolist())\n",
    "            f_dist_x = np.mean(filtered['x_filtered_distance'].tolist())\n",
    "            f_dist_y = np.mean(filtered['y_filtered_distance'].tolist())\n",
    "\n",
    "            euclidean = np.mean(filtered['raw_euclidean'].tolist())\n",
    "            f_euclidean = np.mean(filtered['filtered_euclidean'].tolist())\n",
    "\n",
    "            rms = rmss2s(x, y)\n",
    "            f_rms = rmss2s(filtered_x, filtered_y)\n",
    "\n",
    "            target_xs.append(value[0])\n",
    "            target_ys.append(value[1])\n",
    "            mean_xs.append(mean_x)\n",
    "            mean_ys.append(mean_y)\n",
    "            f_mean_xs.append(f_mean_x)\n",
    "            f_mean_ys.append(f_mean_y)\n",
    "            sd_xs.append(sd_x)\n",
    "            sd_ys.append(sd_y)\n",
    "            f_sd_xs.append(f_sd_x)\n",
    "            f_sd_ys.append(f_sd_y)\n",
    "            dist_xs.append(dist_x)\n",
    "            dist_ys.append(dist_y)\n",
    "            f_dist_xs.append(f_dist_x)\n",
    "            f_dist_ys.append(f_dist_y)\n",
    "            euclideans.append(euclidean)\n",
    "            f_euclideans.append(f_euclidean)\n",
    "            rmss2ss.append(rms)\n",
    "            f_rmss2ss.append(f_rms)\n",
    "\n",
    "            # print(f'{key} | mean:({mean_x}, {mean_y}) | dist:({dist_x}, {dist_y}) | sd: ({sd_x}, {sd_y}) | rms-s2s: {rms} | euclidean: {euclidean}')\n",
    "\n",
    "        output = {\n",
    "            'participant': [p] * len(TARGETS),\n",
    "            'condition': ['uniteye'] * len(TARGETS),\n",
    "            'order': [o] * len(TARGETS),\n",
    "            'event': range(1, 12),\n",
    "            'target_x': target_xs,\n",
    "            'target_y': target_ys,\n",
    "            'mean_x': mean_xs,\n",
    "            'mean_y': mean_ys,\n",
    "            'dist_x': dist_xs,\n",
    "            'dist_y': dist_ys,\n",
    "            'euclidean': euclideans,\n",
    "            'sd_x': sd_xs,\n",
    "            'sd_y': sd_ys,\n",
    "            'rmss2s': rmss2ss,\n",
    "        }\n",
    "        filtered_output = {\n",
    "            'participant': [p] * len(TARGETS),\n",
    "            'condition': ['uniteye_filtered'] * len(TARGETS),\n",
    "            'order': [o] * len(TARGETS),\n",
    "            'event': range(1, 12),\n",
    "            'target_x': target_xs,\n",
    "            'target_y': target_ys,\n",
    "            'mean_x': f_mean_xs,\n",
    "            'mean_y': f_mean_ys,\n",
    "            'dist_x': f_dist_xs,\n",
    "            'dist_y': f_dist_ys,\n",
    "            'euclidean': f_euclideans,\n",
    "            'sd_x': f_sd_xs,\n",
    "            'sd_y': f_sd_ys,\n",
    "            'rmss2s': f_rmss2ss\n",
    "        }\n",
    "\n",
    "        dfs_uniteye.append(pd.DataFrame(output))\n",
    "        dfs_uniteye_f.append(pd.DataFrame(filtered_output))"
   ]
  },
  {
   "cell_type": "markdown",
   "metadata": {},
   "source": [
    "## Tobii"
   ]
  },
  {
   "cell_type": "code",
   "execution_count": null,
   "metadata": {},
   "outputs": [],
   "source": [
    "dfs_tobii = []\n",
    "for p in range(1, 13):\n",
    "    for o in range(0, 2):\n",
    "        tobii = f'data/p{p}/{p}_tobii_{o}.csv'\n",
    "\n",
    "        target_xs, target_ys, mean_xs, mean_ys, dist_xs, dist_ys, euclideans, sd_xs, sd_ys, rmss2ss = [], [], [], [], [], [], [], [], [], []\n",
    "\n",
    "        df = pd.read_csv(tobii, sep=';', decimal='.')\n",
    "        for key, value in TARGETS.items():\n",
    "            filtered = df[df['event'] == key].copy()\n",
    "            x = filtered['mean_x'].tolist()\n",
    "            y = filtered['mean_y'].tolist()\n",
    "\n",
    "            mean_x = np.mean(x)\n",
    "            mean_y = np.mean(y)\n",
    "            sd_x = np.std(x)\n",
    "            sd_y = np.std(y)\n",
    "            dist_x = np.mean(filtered['x_distance'].tolist())\n",
    "            dist_y = np.mean(filtered['y_distance'].tolist())\n",
    "            euclidean = np.mean(filtered['euclidean'].tolist())\n",
    "\n",
    "            rms = rmss2s(x, y)\n",
    "\n",
    "            target_xs.append(value[0])\n",
    "            target_ys.append(value[1])\n",
    "            mean_xs.append(mean_x)\n",
    "            mean_ys.append(mean_y)\n",
    "            sd_xs.append(sd_x)\n",
    "            sd_ys.append(sd_y)\n",
    "            dist_xs.append(dist_x)\n",
    "            dist_ys.append(dist_y)\n",
    "            euclideans.append(euclidean)\n",
    "            rmss2ss.append(rms)\n",
    "\n",
    "            # print(f'{key} | mean:({mean_x}, {mean_y}) | dist:({dist_x}, {dist_y}) | sd: ({sd_x}, {sd_y}) | rms-s2s: {rms} | euclidean: {euclidean}')\n",
    "\n",
    "        output = {\n",
    "            'participant': [p] * len(TARGETS),\n",
    "            'condition': ['tobii'] * len(TARGETS),\n",
    "            'order': [o] * len(TARGETS),\n",
    "            'event': range(1, 12),\n",
    "            'target_x': target_xs,\n",
    "            'target_y': target_ys,\n",
    "            'mean_x': mean_xs,\n",
    "            'mean_y': mean_ys,\n",
    "            'dist_x': dist_xs,\n",
    "            'dist_y': dist_ys,\n",
    "            'euclidean': euclideans,\n",
    "            'sd_x': sd_xs,\n",
    "            'sd_y': sd_ys,\n",
    "            'rmss2s': rmss2ss,\n",
    "        }\n",
    "        \n",
    "        dfs_tobii.append(pd.DataFrame(output))"
   ]
  },
  {
   "cell_type": "markdown",
   "metadata": {},
   "source": [
    "## Concat Tobii + UnitEye + UnitEye Smoothed"
   ]
  },
  {
   "cell_type": "code",
   "execution_count": null,
   "metadata": {},
   "outputs": [],
   "source": [
    "dfs = dfs_uniteye + dfs_uniteye_f + dfs_tobii\n",
    "df = pd.concat(dfs, ignore_index=True)"
   ]
  },
  {
   "cell_type": "markdown",
   "metadata": {},
   "source": [
    "## Lux"
   ]
  },
  {
   "cell_type": "code",
   "execution_count": null,
   "metadata": {},
   "outputs": [],
   "source": [
    "df_lux = pd.read_csv('./data/lux.csv', sep=';')\n",
    "df = df.merge(df_lux, on=['participant', 'condition', 'order'])"
   ]
  },
  {
   "cell_type": "markdown",
   "metadata": {},
   "source": [
    "## Write to CSV"
   ]
  },
  {
   "cell_type": "code",
   "execution_count": null,
   "metadata": {},
   "outputs": [],
   "source": [
    "df.to_csv(f'./data/data.csv', sep=';', decimal='.', index=False)"
   ]
  }
 ],
 "metadata": {
  "kernelspec": {
   "display_name": ".env",
   "language": "python",
   "name": "python3"
  },
  "language_info": {
   "codemirror_mode": {
    "name": "ipython",
    "version": 3
   },
   "file_extension": ".py",
   "mimetype": "text/x-python",
   "name": "python",
   "nbconvert_exporter": "python",
   "pygments_lexer": "ipython3",
   "version": "3.11.4"
  }
 },
 "nbformat": 4,
 "nbformat_minor": 2
}
